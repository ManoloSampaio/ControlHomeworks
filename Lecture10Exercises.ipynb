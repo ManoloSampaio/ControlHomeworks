{
  "nbformat": 4,
  "nbformat_minor": 0,
  "metadata": {
    "colab": {
      "name": "Lectur10Exercises.ipynb",
      "provenance": [],
      "collapsed_sections": [],
      "toc_visible": true,
      "authorship_tag": "ABX9TyN+Yf8IWLSGAOvb9KfnyWZ6",
      "include_colab_link": true
    },
    "kernelspec": {
      "name": "python3",
      "display_name": "Python 3"
    }
  },
  "cells": [
    {
      "cell_type": "markdown",
      "metadata": {
        "id": "view-in-github",
        "colab_type": "text"
      },
      "source": [
        "<a href=\"https://colab.research.google.com/github/ManoloSampaio/ControlHomeworks/blob/master/Lecture10Exercises.ipynb\" target=\"_parent\"><img src=\"https://colab.research.google.com/assets/colab-badge.svg\" alt=\"Open In Colab\"/></a>"
      ]
    },
    {
      "cell_type": "code",
      "metadata": {
        "id": "j7l9-j9tAzwP",
        "colab_type": "code",
        "colab": {}
      },
      "source": [
        "#!pip install control\n",
        "# NOTE: Maybe you will need to install"
      ],
      "execution_count": null,
      "outputs": []
    },
    {
      "cell_type": "code",
      "metadata": {
        "id": "Uy46o5UJBIgg",
        "colab_type": "code",
        "colab": {}
      },
      "source": [
        "from control.matlab import step,stepinfo,tf\n",
        "import matplotlib.pyplot as plt\n",
        "import numpy as np"
      ],
      "execution_count": null,
      "outputs": []
    },
    {
      "cell_type": "markdown",
      "metadata": {
        "id": "w99zwYKzco4B",
        "colab_type": "text"
      },
      "source": [
        "## First execise"
      ]
    },
    {
      "cell_type": "code",
      "metadata": {
        "id": "AZyGM57wCM6e",
        "colab_type": "code",
        "colab": {}
      },
      "source": [
        "sys_1 = tf([361],[1,16,361])\n",
        "print(sys_1)"
      ],
      "execution_count": null,
      "outputs": []
    },
    {
      "cell_type": "code",
      "metadata": {
        "id": "_4M5eLt5E_SK",
        "colab_type": "code",
        "colab": {
          "base_uri": "https://localhost:8080/",
          "height": 173
        },
        "outputId": "729e829b-6375-4bd2-9425-6fb992431725"
      },
      "source": [
        "stepinfo(sys_1)"
      ],
      "execution_count": null,
      "outputs": [
        {
          "output_type": "execute_result",
          "data": {
            "text/plain": [
              "{'Overshoot': 23.201718783283695,\n",
              " 'Peak': 1.2326193607417657,\n",
              " 'PeakTime': 0.18218218218218218,\n",
              " 'RiseTime': 0.07882882882882883,\n",
              " 'SettlingMax': 1.2326193607417657,\n",
              " 'SettlingMin': 0.9005674699188317,\n",
              " 'SettlingTime': 0.44319319319319317,\n",
              " 'SteadyStateValue': 1.0004887698928844,\n",
              " 'Undershoot': 0.0}"
            ]
          },
          "metadata": {
            "tags": []
          },
          "execution_count": 6
        }
      ]
    },
    {
      "cell_type": "code",
      "metadata": {
        "id": "aKV9iAWAFACB",
        "colab_type": "code",
        "colab": {
          "base_uri": "https://localhost:8080/",
          "height": 265
        },
        "outputId": "5bcb85ef-cd0b-4353-fdd9-d4b61614e427"
      },
      "source": [
        "y_out,T=step(sys_1)\n",
        "plt.plot(T,y_out)\n",
        "plt.grid()\n",
        "plt.show()"
      ],
      "execution_count": null,
      "outputs": [
        {
          "output_type": "display_data",
          "data": {
            "image/png": "[encoded data removed]",
            "text/plain": [
              "<Figure size 432x288 with 1 Axes>"
            ]
          },
          "metadata": {
            "tags": [],
            "needs_background": "light"
          }
        }
      ]
    },
    {
      "cell_type": "markdown",
      "metadata": {
        "id": "etghFIAwdE-u",
        "colab_type": "text"
      },
      "source": [
        "## Second exercise"
      ]
    },
    {
      "cell_type": "code",
      "metadata": {
        "id": "EheGyjahFSPJ",
        "colab_type": "code",
        "colab": {}
      },
      "source": [
        "K = 25\n",
        "M = 5\n",
        "gamma = 5"
      ],
      "execution_count": null,
      "outputs": []
    },
    {
      "cell_type": "code",
      "metadata": {
        "id": "g-hZF9ceGAqu",
        "colab_type": "code",
        "colab": {
          "base_uri": "https://localhost:8080/",
          "height": 34
        },
        "outputId": "628b9c24-6304-4e5b-90ec-139cda1d9aa1"
      },
      "source": [
        "omega_n = (K/M)**0.5\n",
        "zeta = (gamma/M)/2*omega_n\n",
        "zeta"
      ],
      "execution_count": null,
      "outputs": [
        {
          "output_type": "execute_result",
          "data": {
            "text/plain": [
              "1.118033988749895"
            ]
          },
          "metadata": {
            "tags": []
          },
          "execution_count": 71
        }
      ]
    },
    {
      "cell_type": "code",
      "metadata": {
        "id": "DnwRflHEZBRL",
        "colab_type": "code",
        "colab": {
          "base_uri": "https://localhost:8080/",
          "height": 34
        },
        "outputId": "4657970c-c92a-4936-a91a-cbbd3f8e4e1e"
      },
      "source": [
        "5**0.5"
      ],
      "execution_count": null,
      "outputs": [
        {
          "output_type": "execute_result",
          "data": {
            "text/plain": [
              "2.23606797749979"
            ]
          },
          "metadata": {
            "tags": []
          },
          "execution_count": 69
        }
      ]
    },
    {
      "cell_type": "code",
      "metadata": {
        "id": "kxGuX8iZGdYN",
        "colab_type": "code",
        "colab": {
          "base_uri": "https://localhost:8080/",
          "height": 104
        },
        "outputId": "aa329215-db06-4ce5-88e5-55ce04d7c533"
      },
      "source": [
        "sys_2 = tf([1/M],[1,gamma/M,K/M])\n",
        "print(sys_2)"
      ],
      "execution_count": null,
      "outputs": [
        {
          "output_type": "stream",
          "text": [
            "\n",
            "    0.2\n",
            "-----------\n",
            "s^2 + s + 5\n",
            "\n"
          ],
          "name": "stdout"
        }
      ]
    },
    {
      "cell_type": "code",
      "metadata": {
        "id": "3ZkhHDfKZajp",
        "colab_type": "code",
        "colab": {
          "base_uri": "https://localhost:8080/",
          "height": 173
        },
        "outputId": "48b74cc9-25b3-4516-ef73-dc448639c010"
      },
      "source": [
        "stepinfo(sys_2)"
      ],
      "execution_count": null,
      "outputs": [
        {
          "output_type": "execute_result",
          "data": {
            "text/plain": [
              "{'Overshoot': 48.698653595320906,\n",
              " 'Peak': 0.05945567608098726,\n",
              " 'PeakTime': 1.4434434434434438,\n",
              " 'RiseTime': 0.5605605605605607,\n",
              " 'SettlingMax': 0.05945567608098726,\n",
              " 'SettlingMin': 0.030537102187189316,\n",
              " 'SettlingTime': 7.581581581581584,\n",
              " 'SteadyStateValue': 0.03998400432245618,\n",
              " 'Undershoot': 0.0}"
            ]
          },
          "metadata": {
            "tags": []
          },
          "execution_count": 75
        }
      ]
    },
    {
      "cell_type": "code",
      "metadata": {
        "id": "BMGjK80fG-g7",
        "colab_type": "code",
        "colab": {
          "base_uri": "https://localhost:8080/",
          "height": 265
        },
        "outputId": "d9aa1daa-1eda-45ad-a9b8-e3eef4e8f25d"
      },
      "source": [
        "y_out,T=step(sys_2)\n",
        "plt.plot(T,y_out,'k')\n",
        "plt.grid()\n",
        "plt.show()"
      ],
      "execution_count": null,
      "outputs": [
        {
          "output_type": "display_data",
          "data": {
            "image/png": "[encoded data removed]",
            "text/plain": [
              "<Figure size 432x288 with 1 Axes>"
            ]
          },
          "metadata": {
            "tags": [],
            "needs_background": "light"
          }
        }
      ]
    },
    {
      "cell_type": "markdown",
      "metadata": {
        "id": "imNf0VZbdN_8",
        "colab_type": "text"
      },
      "source": [
        "## Third Exercise:"
      ]
    },
    {
      "cell_type": "code",
      "metadata": {
        "id": "2mBQWhyqHKms",
        "colab_type": "code",
        "colab": {
          "base_uri": "https://localhost:8080/",
          "height": 69
        },
        "outputId": "316f6378-4c81-49f9-9167-3dada056b5fd"
      },
      "source": [
        "final_value = 11\n",
        "max_value = 14\n",
        "OS = ((max_value-final_value)/final_value)*100\n",
        "print('The overshoot:', OS,\"%\")\n",
        "\n",
        "aux = np.log(OS/100)\n",
        "damping_ratio = -aux/(np.pi**2+aux**2)**0.5\n",
        "\n",
        "\n",
        "peak_time = 1\n",
        "omega_n = np.pi/(1-damping_ratio**2)**0.5\n",
        "\n",
        "print(\"Damping Ratio: \",damping_ratio)\n",
        "print(\"Natural frenquency: \",omega_n)\n",
        "\n",
        "\n",
        "\n",
        "K = final_value"
      ],
      "execution_count": 109,
      "outputs": [
        {
          "output_type": "stream",
          "text": [
            "The overshoot: 27.27272727272727 %\n",
            "Damping Ratio:  0.3821794032078296\n",
            "Natural frenquency:  3.399667729931823\n"
          ],
          "name": "stdout"
        }
      ]
    },
    {
      "cell_type": "code",
      "metadata": {
        "id": "N7wmEw-jJAFQ",
        "colab_type": "code",
        "colab": {
          "base_uri": "https://localhost:8080/",
          "height": 104
        },
        "outputId": "631bd6cc-7a6c-47d9-cbc1-3649c17cc2fb"
      },
      "source": [
        "sys = tf([K*omega_n**2],[1,2*omega_n*damping_ratio,omega_n**2])\n",
        "print(sys)"
      ],
      "execution_count": 110,
      "outputs": [
        {
          "output_type": "stream",
          "text": [
            "\n",
            "        127.1\n",
            "---------------------\n",
            "s^2 + 2.599 s + 11.56\n",
            "\n"
          ],
          "name": "stdout"
        }
      ]
    },
    {
      "cell_type": "code",
      "metadata": {
        "id": "WWVXJTtsJMOP",
        "colab_type": "code",
        "colab": {
          "base_uri": "https://localhost:8080/",
          "height": 283
        },
        "outputId": "9e6b6092-5541-4562-a9a2-eff303f48585"
      },
      "source": [
        "y_out,T=step(sys)\n",
        "plt.plot(T,y_out,'k')\n",
        "plt.yticks(np.arange(0,26,5))\n",
        "plt.xlim(left=0,right=5)\n",
        "plt.ylim(top=25,bottom=0)\n",
        "plt.grid()\n",
        "plt.xlabel('Time(seconds)')\n",
        "plt.ylabel('Response')\n",
        "plt.savefig('file.png',format='png')\n",
        "plt.show()"
      ],
      "execution_count": 111,
      "outputs": [
        {
          "output_type": "display_data",
          "data": {
            "image/png": "[encoded data removed]",
            "text/plain": [
              "<Figure size 432x288 with 1 Axes>"
            ]
          },
          "metadata": {
            "tags": [],
            "needs_background": "light"
          }
        }
      ]
    },
    {
      "cell_type": "code",
      "metadata": {
        "id": "-NFYsvmsJPqd",
        "colab_type": "code",
        "colab": {
          "base_uri": "https://localhost:8080/",
          "height": 52
        },
        "outputId": "b4ffe581-4c78-4e44-db24-7da30344df95"
      },
      "source": [
        "final_value = 1\n",
        "max_value = 1.4\n",
        "OS = ((max_value-final_value)/final_value)*100\n",
        "\n",
        "\n",
        "aux = np.log(OS/100)\n",
        "damping_ratio = -aux/(np.pi**2+aux**2)**0.5\n",
        "\n",
        "\n",
        "peak_time = 4\n",
        "omega_n = np.pi/peak_time*(1-damping_ratio**2)**0.5\n",
        "\n",
        "print(\"Natural Frequency:\",omega_n)\n",
        "print(\"Damping ratio\",damping_ratio)\n",
        "\n",
        "K = final_value"
      ],
      "execution_count": 112,
      "outputs": [
        {
          "output_type": "stream",
          "text": [
            "Natural Frequency: 0.7539826965354635\n",
            "Damping ratio 0.27999799333504166\n"
          ],
          "name": "stdout"
        }
      ]
    },
    {
      "cell_type": "code",
      "metadata": {
        "id": "uNJEKEKiKZZg",
        "colab_type": "code",
        "colab": {
          "base_uri": "https://localhost:8080/",
          "height": 104
        },
        "outputId": "15a56555-829a-4737-a776-79763758b863"
      },
      "source": [
        "sys = tf([K*omega_n**2],[1,2*omega_n*damping_ratio,omega_n**2])\n",
        "print(sys)"
      ],
      "execution_count": 113,
      "outputs": [
        {
          "output_type": "stream",
          "text": [
            "\n",
            "        0.5685\n",
            "-----------------------\n",
            "s^2 + 0.4222 s + 0.5685\n",
            "\n"
          ],
          "name": "stdout"
        }
      ]
    },
    {
      "cell_type": "code",
      "metadata": {
        "id": "2V2RCPJJKcPI",
        "colab_type": "code",
        "colab": {
          "base_uri": "https://localhost:8080/",
          "height": 283
        },
        "outputId": "c59c6379-08f8-45cf-fb8e-2b7a507704f6"
      },
      "source": [
        "y_out,T=step(sys)\n",
        "plt.plot(T,y_out,'k')\n",
        "plt.yticks(np.arange(0,1.5,0.2))\n",
        "plt.xlim(left=0,right=25)\n",
        "plt.ylim(top=1.4,bottom=0)\n",
        "plt.xlabel('Time(seconds)')\n",
        "plt.ylabel('Response')\n",
        "plt.grid()\n",
        "plt.savefig('file.png',format='png')\n",
        "plt.show()"
      ],
      "execution_count": 97,
      "outputs": [
        {
          "output_type": "display_data",
          "data": {
            "image/png": "[encoded data removed]",
            "text/plain": [
              "<Figure size 432x288 with 1 Axes>"
            ]
          },
          "metadata": {
            "tags": [],
            "needs_background": "light"
          }
        }
      ]
    },
    {
      "cell_type": "code",
      "metadata": {
        "id": "8AftHNHKKfSB",
        "colab_type": "code",
        "colab": {
          "base_uri": "https://localhost:8080/",
          "height": 104
        },
        "outputId": "f07975a0-fbb5-4f14-a35e-47e10aee4d22"
      },
      "source": [
        "K = 2\n",
        "T_s = 0.025\n",
        "a = 1/T_s\n",
        "sys = tf([K*a],[1,a])\n",
        "print(sys)"
      ],
      "execution_count": 114,
      "outputs": [
        {
          "output_type": "stream",
          "text": [
            "\n",
            "  80\n",
            "------\n",
            "s + 40\n",
            "\n"
          ],
          "name": "stdout"
        }
      ]
    },
    {
      "cell_type": "code",
      "metadata": {
        "id": "bFZR4_4yLWNU",
        "colab_type": "code",
        "colab": {
          "base_uri": "https://localhost:8080/",
          "height": 283
        },
        "outputId": "8234900f-c5ca-43ff-8b74-49b2315a92f9"
      },
      "source": [
        "T=np.arange(0,0.26,0.005)\n",
        "y_out,t=step(sys,T=np.arange(0,0.26,0.005))\n",
        "plt.plot(T,y_out,'k')\n",
        "plt.yticks(np.arange(0,4,1))\n",
        "plt.xlim(left=0,right=0.25)\n",
        "plt.ylim(top=3,bottom=0)\n",
        "plt.xlabel('Time(seconds)')\n",
        "plt.ylabel('Response')\n",
        "plt.grid()\n",
        "plt.savefig('file.png',format='png')\n",
        "plt.show()"
      ],
      "execution_count": 115,
      "outputs": [
        {
          "output_type": "display_data",
          "data": {
            "image/png": "[encoded data removed]",
            "text/plain": [
              "<Figure size 432x288 with 1 Axes>"
            ]
          },
          "metadata": {
            "tags": [],
            "needs_background": "light"
          }
        }
      ]
    },
    {
      "cell_type": "code",
      "metadata": {
        "id": "nljQhHZjLuz7",
        "colab_type": "code",
        "colab": {}
      },
      "source": [
        ""
      ],
      "execution_count": null,
      "outputs": []
    }
  ]
}